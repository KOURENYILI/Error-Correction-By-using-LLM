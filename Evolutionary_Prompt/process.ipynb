{
 "cells": [
  {
   "cell_type": "code",
   "execution_count": 1,
   "id": "2c8f0eb6-4462-4ccc-acb5-0ce5ce118c1a",
   "metadata": {},
   "outputs": [],
   "source": [
    "import json"
   ]
  },
  {
   "cell_type": "code",
   "execution_count": 5,
   "id": "2245a416-ec7d-4b04-a526-9c4ed460acca",
   "metadata": {},
   "outputs": [],
   "source": [
    "path = \"data/test_wsj.json\"\n",
    "with open(path, 'r') as f:\n",
    "    tests = json.load(f)"
   ]
  },
  {
   "cell_type": "code",
   "execution_count": 6,
   "id": "7fed1c91-c4a1-4ff1-be23-4fb7cc125c4e",
   "metadata": {},
   "outputs": [
    {
     "data": {
      "text/plain": [
       "836"
      ]
     },
     "execution_count": 6,
     "metadata": {},
     "output_type": "execute_result"
    }
   ],
   "source": [
    "len(tests)"
   ]
  },
  {
   "cell_type": "code",
   "execution_count": 8,
   "id": "431f6591-54be-4c39-8b7e-08ebf7bae8a7",
   "metadata": {},
   "outputs": [],
   "source": [
    "new_tests = tests[:50]"
   ]
  },
  {
   "cell_type": "code",
   "execution_count": 9,
   "id": "99de5e32-3a60-44db-8120-7d6abb9b014e",
   "metadata": {},
   "outputs": [],
   "source": [
    "with open('data/new_wsj_test.json', 'w') as f:\n",
    "    json.dump(new_tests, f)"
   ]
  },
  {
   "cell_type": "code",
   "execution_count": null,
   "id": "954c41a8-a391-480c-b696-c56db44b5c39",
   "metadata": {},
   "outputs": [],
   "source": []
  }
 ],
 "metadata": {
  "kernelspec": {
   "display_name": "Python 3 (ipykernel)",
   "language": "python",
   "name": "python3"
  },
  "language_info": {
   "codemirror_mode": {
    "name": "ipython",
    "version": 3
   },
   "file_extension": ".py",
   "mimetype": "text/x-python",
   "name": "python",
   "nbconvert_exporter": "python",
   "pygments_lexer": "ipython3",
   "version": "3.11.10"
  }
 },
 "nbformat": 4,
 "nbformat_minor": 5
}
